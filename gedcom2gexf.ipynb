{
 "cells": [
  {
   "cell_type": "markdown",
   "id": "5c11be7b",
   "metadata": {},
   "source": [
    "Works with Python2 and Python3\n",
    "\n",
    "It requires:\n",
    "\n",
    "- networkx package for graph handling\n",
    "- gedcompy package to parse gedcom file\n",
    "\n",
    "python -m pip install networkx\n",
    "python -m pip install gedcompy\n",
    "\n",
    "Be careful, this package may collide with python-gedcom."
   ]
  },
  {
   "cell_type": "code",
   "execution_count": 1,
   "id": "72ed96d6",
   "metadata": {
    "lines_to_next_cell": 1
   },
   "outputs": [],
   "source": [
    "import gedcom\n",
    "import gedcom7\n",
    "import networkx as nx\n",
    "import os"
   ]
  },
  {
   "cell_type": "code",
   "execution_count": null,
   "id": "9f87dc07",
   "metadata": {
    "lines_to_next_cell": 1
   },
   "outputs": [],
   "source": [
    "def gedcom2gephi(gedcomFilename='my_gedcom_file.ged', gephiFilename=None):\n",
    "    getName = lambda n: n.name[0]+' '+n.name[1]\n",
    "    getId = lambda n: n.id[1:-1]\n",
    "    getFamilyName = lambda n: n.name[1]\n",
    "\n",
    "    #g = gedcom.parse(gedcomFilename)\n",
    "    with open(gedcomFilename, \"r\", encoding=\"utf-8\") as f:\n",
    "        s = f.read()\n",
    "    g = gedcom7.loads(s)\n",
    "    dg = nx.DiGraph()\n",
    "    for p in g.individuals:\n",
    "        if p.id not in dg:\n",
    "            dg.add_node(getId(p), label=getName(p), name=getName(p), familyName=getFamilyName(p))\n",
    "    for p in g.individuals:\n",
    "        if p.father:\n",
    "            dg.add_edge(getId(p.father), getId(p))\n",
    "        if p.mother:\n",
    "            dg.add_edge(getId(p.mother), getId(p))\n",
    "    if gephiFilename is None:\n",
    "        gephiFilename = os.path.splitext(gedcomFilename)[0] + '.gexf'\n",
    "    nx.write_gexf(dg, gephiFilename)"
   ]
  },
  {
   "cell_type": "code",
   "execution_count": null,
   "id": "f15d5a25",
   "metadata": {},
   "outputs": [],
   "source": [
    "if __name__ == '__main__':\n",
    "    import argparse\n",
    "    parser = argparse.ArgumentParser(\n",
    "        description = 'This script converts a gedcom file to a gexf file')\n",
    "    pa = parser.add_argument\n",
    "    pa('-g','--gedcom', type = str, default = 'my_gedcom_file.ged',\n",
    "       help = 'Gedcom filename')\n",
    "    pa('-o','--outputGexf', type = str, default = None,\n",
    "       help='Optional output name. If not provided, a filename will be generated from the gedcom filename')\n",
    "    args = parser.parse_args()\n",
    "    gedcom2gephi(gedcomFilename=args.gedcom, gephiFilename=args.outputGexf)"
   ]
  }
 ],
 "metadata": {
  "jupytext": {
   "cell_metadata_filter": "-all",
   "encoding": "# -*- coding: utf-8 -*-",
   "executable": "/usr/bin/env python",
   "main_language": "python",
   "notebook_metadata_filter": "-all"
  },
  "kernelspec": {
   "display_name": "Python 3",
   "language": "python",
   "name": "python3"
  },
  "language_info": {
   "codemirror_mode": {
    "name": "ipython",
    "version": 3
   },
   "file_extension": ".py",
   "mimetype": "text/x-python",
   "name": "python",
   "nbconvert_exporter": "python",
   "pygments_lexer": "ipython3",
   "version": "3.11.5"
  }
 },
 "nbformat": 4,
 "nbformat_minor": 5
}
